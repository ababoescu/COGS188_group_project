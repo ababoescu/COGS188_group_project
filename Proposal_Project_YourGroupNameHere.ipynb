{
 "cells": [
  {
   "attachments": {},
   "cell_type": "markdown",
   "metadata": {},
   "source": [
    "# COGS 188 - Project Proposal"
   ]
  },
  {
   "attachments": {},
   "cell_type": "markdown",
   "metadata": {},
   "source": []
  },
  {
   "cell_type": "markdown",
   "metadata": {},
   "source": [
    "# Names\n",
    "\n",
    "Hopefully your team is at least this good. Obviously you should replace these with your names.\n",
    "\n",
    "- Ana Maria Baboescu\n",
    "- Fatima Enriquez\n",
    "- Eric Lin"
   ]
  },
  {
   "cell_type": "markdown",
   "metadata": {},
   "source": [
    "# Abstract \n",
    "Create an Artificial Intelligence (AI) algorithm that successfully wins the game of chess in as few moves as possible and this would be a two player game (one player vs AI). The data that we are using is based on the performance of AI and their opponents from previous completed games. The manner in which we are measuring the data is by documenting the scores each player has at the end of the completed games. We are utilizing the data to help reinforce the AI system. Performance is measured by the type of pieces/the number of pieces that a player takes out from their opponent and the ability to checkmate the king piece."
   ]
  },
  {
   "cell_type": "markdown",
   "metadata": {},
   "source": [
    "# Background\n",
    "\n",
    "There has been ample research regarding the use of AI to solve problems. Due to the increase in popularity of online games such as chess, sudoku, and solitaire, more individuals are inclined to play them virtually. Having this virtual access was key, especially during the pandemic <a name=\"cite_2\"></a>[<sup>[2]</sup>](#cite_2). However, the concern for many is how to detect cheating. The European Online Championship details that it is paramount to keep the integrity of the game to the point where more than eight participants, in 2020, were deemed disqualified for utilizing aid <a name=\"cite_3\"></a>[<sup>[3]</sup>](#cite_3). In this manner, there is a desire for softwares to be able to detect cheating in an online game <a name=\"cite_1\"></a>[<sup>[1]</sup>](#cite_1). The use of AI in online chess matches makes it easier for the person cheating to win the game. While it is fascinating to imagine how a program can win such a strategic game, ethically, it is paramount that as a society we use AI as a learning tool. \n",
    "\n",
    "Nonetheless, the desire to solve problems and expand the realm of artificial intelligence has been around for decades. In one of the most infamous games of chess played by Garry Kasparov and Deep Blue, the machine won by one point <a name=\"cite_1\"></a>[<sup>[1]</sup>](#cite_1). Deep Blue is a software created by International Business Machines Corporation (IBM), which consisted of 32 processors and produced “high-speed computations in parallel”. Deep Blue was thus able to evaluate about 200 million chess positions per second and held a “processing speed of 11.38 billion floating-point operations per second” <a name=\"cite_4\"></a>[<sup>[4]</sup>](#cite_4).This breakthrough to be able to have a machine detect and think like a human is evolutionary to the point where the legendary match, where Deep Blue won was due to the computational build of the machine. This is because the machine has such a high processing speed and evaluation power <a name=\"cite_1\"></a>[<sup>[1]</sup>](#cite_1)."
   ]
  },
  {
   "cell_type": "code",
   "execution_count": null,
   "metadata": {},
   "outputs": [],
   "source": []
  },
  {
   "cell_type": "markdown",
   "metadata": {},
   "source": [
    "# Problem Statement\n",
    "\n",
    "One of the widely known games, Chess, is a game typically associated with strategy and skill with multiple different styles of playing/executing. Thus, the success of the player is determined by the manner in which both players move. This can frequently be quite difficult for beginners, because without AI, one would have to seek different skill-leveled individuals to build one's mastery of the game. However, with AI, each time the player plays the system, it would be different for the player due to the reinforcement learning of past games it has played including its experience with the current player."
   ]
  },
  {
   "cell_type": "markdown",
   "metadata": {},
   "source": [
    "# Data\n",
    "\n",
    "Our data would be compiled primarily through testing our code on chess players, other AI chess algorithms, and datasets of previous chess games that have been player. This would help with the reinforcement learning aspect of our algorithm to study different possible patterns and train the algorithm. One database that would plan to use to create our dataset would be Lichness.com<a name=\"cite_5\"></a>[<sup>[5]</sup>](#cite_5) which is a free, open source website database that allows us to download monthly shards of every chess game played on the website. The size of the dataset we compile would depend on the type of game and it’s number of moves and patterns that have been made by the pieces. As for the observations, they consist of different patterns in play of the chess pieces, total moves made in the game and determination of which side won. The dataset we compile through this data would need some cleaning and transformed into something that can be properly read in by our algorithm."
   ]
  },
  {
   "cell_type": "markdown",
   "metadata": {},
   "source": [
    "# Proposed Solution\n",
    "\n",
    "For our project, we propose to create an algorithm using minimax, A*, and reinforcement learning. In a human chess game, both players typically attempt to play optimally, in order to win. One would win by trying to take as many pieces from the opponent as possible; thus clearing the board, and attempting to checkmate. This makes the minimax algorithm, one of the ideal algorithms to use for reaching the aforementioned goal. Subsequently, A* is utilized to help calculate the heuristic values based off of the moves, pieces taken, and how close one is to the checkmate. Additionally, reinforcement learning is used by the AI to help utilize what the algorithm learned from previous games in order to improve its performance in the next game and possibly recognize patterns. By being able to recognize patterns of players, the AI could have more experience as well as adaptability with different chess players. In turn, the human player would have the capacity to play against different skill levels with the AI.\n",
    "\n",
    "We would be utilizing numpy to calculate mathematical calculations. Additionally, pygame would be utilized to aid in the visualization and interface of the game. The library, python-chess library provides all the move generations, validations, and board/pieces of the game itself. We will implement this library to set the rules of the chess game. "
   ]
  },
  {
   "cell_type": "markdown",
   "metadata": {},
   "source": [
    "# Evaluation Metrics\n",
    "\n",
    "The evaluation metric that can be used to quantify the performance would be whether or not the algorithm manages to get a checkmate, the number of pieces a player is able to capture, and how few pieces they lose. This can be evaluated through A* to help calculate the heuristic values assigned for each possible mapping of the layout. This would be used to help implement the Minimax Algorithm used for finding the ideal path to checkmate.\n",
    "\n",
    "\n",
    "We could also use an algorithm that randomly selects possible moves and have it play against our chess AI in order to evaluate performance by how frequently the AI beats random chance.\n"
   ]
  },
  {
   "cell_type": "markdown",
   "metadata": {},
   "source": [
    "# Ethics & Privacy"
   ]
  },
  {
   "cell_type": "markdown",
   "metadata": {},
   "source": [
    "One potential concern regarding ethics that may come with this project would be the ability to use the AI to cheat in real online chess matches against unsuspecting players. For example, a cheater may be able to hook up the AI directly to the chess program or they may be able to use it to simulate future moves, gaining an unfair advantage. I think a way to address this may be to warn players that many multiplayer chess sites have anti-cheating detection, discouraging the use of this algorithm in cheating.\n",
    "\n",
    "Another concern is that the project is intended to store and analyze information from previous games in order to improve its strategy. However, some players may not be comfortable with a program recording and storing their playstyle. As such, it  may be best to notify people that using this program would result in storage and use of data. In addition, no identifying information such as name, age, or location, will be collected.\n"
   ]
  },
  {
   "cell_type": "markdown",
   "metadata": {},
   "source": [
    "# Team Expectations "
   ]
  },
  {
   "cell_type": "markdown",
   "metadata": {},
   "source": [
    "Put things here that cement how you will interact/communicate as a team, how you will handle conflict and difficulty, how you will handle making decisions and setting goals/schedule, how much work you expect from each other, how you will handle deadlines, etc...\n",
    "* Communication is expected in a timely and professional manner.\n",
    "    * In the case of a deadline, each team member is expected to contribute to the project.\n",
    "* In the case of an emergency, each team member is expected to communicate as early as possible to the group if they are unable to meet a deadline, miss a meeting, and/or all other project related aspects.\n",
    "* If conflicts arise, each team member will be respectful of others and their ideas. Group members will communicate on how to go about solving each problem.\n",
    "* Each team member is expected to contribute about the same amount of time as everyone else. However, if one member is more experienced than another in a project aspect, then another member who is less-experienced is expected to still help aid and learn from the other and/or take on a different responsibility.\n",
    "* Each member is expected to set aside time to meet when necessary to discuss and work on the project. \n",
    "* Deadlines for the project as expected from the course will be met on time. No excuses with such deadlines will be accepted, especially since these deadlines are on the course page.\n",
    "    * Please reference the second bullet regarding emergencies. Softer deadlines, for the group to stay on track are malleable. Yet, each group member is still responsible for aiding in the success of the project."
   ]
  },
  {
   "cell_type": "markdown",
   "metadata": {},
   "source": [
    "# Project Timeline Proposal"
   ]
  },
  {
   "cell_type": "markdown",
   "metadata": {},
   "source": [
    "Replace this with something meaningful that is appropriate for your needs. It doesn't have to be something that fits this format.  It doesn't have to be set in stone... \"no battle plan survives contact with the enemy\". But you need a battle plan nonetheless, and you need to keep it updated so you understand what you are trying to accomplish, who's responsible for what, and what the expected due dates are for each item.\n",
    "\n",
    "| Meeting Date  | Meeting Time| Completed Before Meeting  | Discuss at Meeting |\n",
    "|---|---|---|---|\n",
    "| 4/29  |  6-7 PM |  Brainstorm topics/questions (all)  | Determine best form of communication; Discuss and decide on final project topic; discuss hypothesis; begin background research | \n",
    "| 5/02  |  3:45-5 pM |  Do background research on topic (all) | Discuss ideal dataset(s) and ethics; draft project proposal | \n",
    "| 5/04  | 6 PM  | Edit, finalize, and submit proposal; Search for datasets (all)  | Discuss Wrangling and possible analytical approaches; Assign group members to lead each specific part   |\n",
    "| 5/14  | 6 PM  | Import & Wrangle Data ,do some EDA (all) | Review/Edit wrangling/EDA; Discuss Analysis Plan   |\n",
    "| 5/23  | 6 PM  | Finalize wrangling/EDA; Begin programming for project (all) | Discuss/edit project code; Complete project |\n",
    "| 6/13  | 6 PM  | Complete analysis; Draft results/conclusion/discussion (all)| Discuss/edit full project |\n",
    "| 6/19  | Before 11:59 PM  | NA | Turn in Final Project  |"
   ]
  },
  {
   "cell_type": "markdown",
   "metadata": {},
   "source": [
    "# Footnotes\n",
    "\n",
    "<a name=\"cite_1\"></a>1.[^](#cite_1): Duca Iliescu, D. M. (10 Dec 2020) The Impact of Artifical Intelligence on the Chess World. *National Library of Medicine*. https://www.ncbi.nlm.nih.gov/pmc/articles/PMC7759436/<br>\n",
    "<a name=\"cite_2\"></a>2.[^](#cite_2): Waldstein, D. (8 May 2020) Chess Thrives Online Despite Pandemic. *The New York Times*. https://www.nytimes.com/2020/05/08/sports/coronavirus-chess-online-tournament.html <br>\n",
    "<a name=\"cite_3\"></a>3.[^](#cite_3): Schormann, C. (21 May 2020) Can online chess overcome cheating? *ChessTech* https://www.chesstech.org/2020/can-online-chess-overcome-cheating/ <br>\n",
    "<a name=\"cite_4\"></a>4.[^](#cite_4): Unknown (n.d.) Deep Blue. *IBM* https://www.ibm.com/history/deep-blue <br>\n",
    "<a name=\"cite_5\"></a>5.[^](#cite_5): Unknown (3 May 2022) *lichness.org: open database* https://database.lichess.org/#standard_games\n"
   ]
  }
 ],
 "metadata": {
  "kernelspec": {
   "display_name": "Python 3 (ipykernel)",
   "language": "python",
   "name": "python3"
  },
  "language_info": {
   "codemirror_mode": {
    "name": "ipython",
    "version": 3
   },
   "file_extension": ".py",
   "mimetype": "text/x-python",
   "name": "python",
   "nbconvert_exporter": "python",
   "pygments_lexer": "ipython3",
   "version": "3.11.5"
  }
 },
 "nbformat": 4,
 "nbformat_minor": 2
}
