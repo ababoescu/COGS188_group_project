{
 "cells": [
  {
   "cell_type": "markdown",
   "metadata": {},
   "source": [
    "# COGS 118B - Final Project"
   ]
  },
  {
   "cell_type": "markdown",
   "metadata": {},
   "source": [
    "# Insert title here\n",
    "\n",
    "## Group members\n",
    "\n",
    "- Ana Maria Baboescu\n",
    "- Fatima Enriquez\n",
    "- Eric Lin"
   ]
  },
  {
   "cell_type": "markdown",
   "metadata": {},
   "source": [
    "# Abstract \n",
    "This section should be short and clearly stated. It should be a single paragraph <200 words.  It should summarize: \n",
    "- what your goal/problem is\n",
    "- what the data used represents \n",
    "- the solution/what you did\n",
    "- major results you came up with (mention how results are measured) \n",
    "\n",
    "__NB:__ this final project form is much more report-like than the proposal and the checkpoint. Think in terms of writing a paper with bits of code in the middle to make the plots/tables\n",
    "\n",
    "\n",
    "Create an Artificial Intelligence (AI) algorithm that successfully wins the game of chess in as few moves as possible and this would be a two player game (one player vs AI). The data that we are using is based on the performance of AI and their opponents from previous completed games. The manner in which we are measuring the data is by documenting the scores each player has at the end of the completed games. We are utilizing the data to help reinforce the AI system. Performance is measured by the type of pieces/the number of pieces that a player takes out from their opponent and the ability to checkmate the king piece."
   ]
  },
  {
   "cell_type": "markdown",
   "metadata": {},
   "source": [
    "# Background\n",
    "\n",
    "Fill in the background and discuss the kind of prior work that has gone on in this research area here. **Use inline citation** to specify which references support which statements.  You can do that through HTML footnotes (demonstrated here). I used to reccommend Markdown footnotes (google is your friend) because they are simpler but recently I have had some problems with them working for me whereas HTML ones always work so far. So use the method that works for you, but do use inline citations.\n",
    "\n",
    "Here is an example of inline citation. After government genocide in the 20th century, real birds were replaced with surveillance drones designed to look just like birds<a name=\"lorenz\"></a>[<sup>[1]</sup>](#lorenznote). Use a minimum of 2 or 3 citations, but we prefer more <a name=\"admonish\"></a>[<sup>[2]</sup>](#admonishnote). You need enough citations to fully explain and back up important facts. \n",
    "\n",
    "Remeber you are trying to explain why someone would want to answer your question or why your hypothesis is in the form that you've stated. \n",
    "\n",
    "\n",
    "\n",
    "\n",
    "\n",
    "There has been ample research regarding the use of AI to solve problems. Due to the increase in popularity of online games such as chess, sudoku, and solitaire, more individuals are inclined to play them virtually. Having this virtual access was key, especially during the pandemic <a name=\"cite_2\"></a>[<sup>[2]</sup>](#cite_2). However, the concern for many is how to detect cheating. The European Online Championship details that it is paramount to keep the integrity of the game to the point where more than eight participants, in 2020, were deemed disqualified for utilizing aid <a name=\"cite_3\"></a>[<sup>[3]</sup>](#cite_3). In this manner, there is a desire for softwares to be able to detect cheating in an online game <a name=\"cite_1\"></a>[<sup>[1]</sup>](#cite_1). The use of AI in online chess matches makes it easier for the person cheating to win the game. While it is fascinating to imagine how a program can win such a strategic game, ethically, it is paramount that as a society we use AI as a learning tool. \n",
    "\n",
    "Nonetheless, the desire to solve problems and expand the realm of artificial intelligence has been around for decades. In one of the most infamous games of chess played by Garry Kasparov and Deep Blue, the machine won by one point <a name=\"cite_1\"></a>[<sup>[1]</sup>](#cite_1). Deep Blue is a software created by International Business Machines Corporation (IBM), which consisted of 32 processors and produced “high-speed computations in parallel”. Deep Blue was thus able to evaluate about 200 million chess positions per second and held a “processing speed of 11.38 billion floating-point operations per second” <a name=\"cite_4\"></a>[<sup>[4]</sup>](#cite_4).This breakthrough to be able to have a machine detect and think like a human is evolutionary to the point where the legendary match, where Deep Blue won was due to the computational build of the machine. This is because the machine has such a high processing speed and evaluation power <a name=\"cite_1\"></a>[<sup>[1]</sup>](#cite_1)."
   ]
  },
  {
   "cell_type": "markdown",
   "metadata": {},
   "source": [
    "# Problem Statement\n",
    "\n",
    "Clearly describe the problem that you are solving. Avoid ambiguous words. The problem described should be well defined and should have at least one ML-relevant potential solution. Additionally, describe the problem thoroughly such that it is clear that the problem is quantifiable (the problem can be expressed in mathematical or logical terms), measurable (the problem can be measured by some metric and clearly observed), and replicable (the problem can be reproduced and occurs more than once).\n",
    "\n",
    "\n",
    "One of the widely known games, Chess, is a game typically associated with strategy and skill with multiple different styles of playing/executing. Thus, the success of the player is determined by the manner in which both players move. This can frequently be quite difficult for beginners, because without AI, one would have to seek different skill-leveled individuals to build one's mastery of the game. However, with AI, each time the player plays the system, it would be different for the player due to the reinforcement learning of past games it has played including its experience with the current player."
   ]
  },
  {
   "cell_type": "markdown",
   "metadata": {},
   "source": [
    "# Data\n",
    "\n",
    "Detail how/where you obtained the data and cleaned it (if necessary)\n",
    "\n",
    "If the data cleaning process is very long (e.g., elaborate text processing) consider describing it briefly here in text, and moving the actual clearning process to another notebook in your repo (include a link here!).  The idea behind this approach: this is a report, and if you blow up the flow of the report to include a lot of code it makes it hard to read.\n",
    "\n",
    "Please give the following infomration for each dataset you are using\n",
    "- link/reference to obtain it\n",
    "- description of the size of the dataset (# of variables, # of observations)\n",
    "- what an observation consists of\n",
    "- what some critical variables are, how they are represented\n",
    "- any special handling, transformations, cleaning, etc you have done should be demonstrated here!\n"
   ]
  },
  {
   "cell_type": "code",
   "execution_count": 3,
   "metadata": {},
   "outputs": [],
   "source": [
    "import chess\n",
    "import chess.pgn\n",
    "import chess.engine\n",
    "import chess.svg\n",
    "import random\n",
    "from math import log, sqrt, e, inf\n",
    "\n",
    "# for the gif\n",
    "from matplotlib.animation import FuncAnimation\n",
    "import matplotlib.pyplot as plt \n",
    "from matplotlib.pyplot import colormaps\n",
    "\n"
   ]
  },
  {
   "cell_type": "code",
   "execution_count": 4,
   "metadata": {},
   "outputs": [],
   "source": [
    "class Node():\n",
    "    def __init__(self):\n",
    "        self.state = chess.Board() # current position of board\n",
    "        self.children = set() # set of all possible states from legal action from current node\n",
    "        self.parent = None # parent node of current node\n",
    "        self.N = 0 # number of times parent node has been visited\n",
    "        self.n = 0 # number of times current node has been visited\n",
    "        self.v = 0 # exploitation factor of current node\n",
    "        self.ucb = 0 #U pper confidence bound\n",
    "    def __lt__(self, other):\n",
    "        return self.ucb < other.ucb\n",
    "def ucb1(curr_node):\n",
    "    ans = curr_node.v + 2 * (sqrt(log(curr_node.N + e + (10 ** -6))/(curr_node.n + (10 ** -10))))\n",
    "    return ans\n",
    "\n"
   ]
  },
  {
   "cell_type": "code",
   "execution_count": 5,
   "metadata": {},
   "outputs": [],
   "source": [
    "def evaluate_board(board):\n",
    "    piece_values = {\n",
    "        chess.PAWN: 1,\n",
    "        chess.KNIGHT: 3,\n",
    "        chess.BISHOP: 3,\n",
    "        chess.ROOK: 5,\n",
    "        chess.QUEEN: 10,\n",
    "        chess.KING: 0\n",
    "    }\n",
    "    value = 0\n",
    "    for piece_type in piece_values:\n",
    "        value += len(board.pieces(piece_type, chess.WHITE)) * piece_values[piece_type]\n",
    "        value -= len(board.pieces(piece_type, chess.BLACK)) * piece_values[piece_type]\n",
    "    return value"
   ]
  },
  {
   "cell_type": "code",
   "execution_count": 6,
   "metadata": {},
   "outputs": [],
   "source": [
    "def rollout(curr_node):\n",
    "    board = curr_node.state \n",
    "    if board.is_game_over():\n",
    "        result = board.result()\n",
    "        if result == '1-0':\n",
    "            return 1\n",
    "        elif result == '0-1':\n",
    "            return -1\n",
    "        else:\n",
    "            return 0\n",
    "    return evaluate_board(board) / 100"
   ]
  },
  {
   "cell_type": "code",
   "execution_count": 7,
   "metadata": {},
   "outputs": [],
   "source": [
    "def expand(curr_node, white):\n",
    "    if (len(curr_node.children) == 0):\n",
    "        return curr_node\n",
    "    max_ucb = -inf\n",
    "    if(white):\n",
    "        idx = -1\n",
    "        max_ucb = -inf\n",
    "        sel_child = None\n",
    "        for i in curr_node.children:\n",
    "            tmp = ucb1(i)\n",
    "            if( tmp > max_ucb):\n",
    "                idx = i\n",
    "                max_ucb = tmp\n",
    "                sel_child = i\n",
    "        return (expand(sel_child, 0))\n",
    "    else:\n",
    "        idx = -1\n",
    "        min_ucb = inf\n",
    "        sel_child = None\n",
    "        for i in curr_node.children:\n",
    "            tmp = ucb1(i)\n",
    "            if (tmp < min_ucb):\n",
    "                idx = i\n",
    "                min_ucb = tmp\n",
    "                sel_child = i\n",
    "        return expand(sel_child, 1)"
   ]
  },
  {
   "cell_type": "code",
   "execution_count": 8,
   "metadata": {},
   "outputs": [],
   "source": [
    "rewards = [] # list that stores rewards\n",
    "\n",
    "def rollback(curr_node, reward):\n",
    "    curr_node.n += 1\n",
    "    curr_node.v += reward\n",
    "    while (curr_node.parent != None):\n",
    "        curr_node.N += 1\n",
    "        curr_node = curr_node.parent\n",
    "    rewards.append(reward) # Append the reward to the list\n",
    "    return curr_node"
   ]
  },
  {
   "cell_type": "code",
   "execution_count": 9,
   "metadata": {},
   "outputs": [],
   "source": [
    "def mcts_pred(curr_node, over, white, iterations=500): #updated iterations from 10 to 100\n",
    "    if(over):\n",
    "        return -1\n",
    "    all_moves = [curr_node.state.san(i) for i in list(curr_node.state.legal_moves)]\n",
    "    map_state_move = dict()\n",
    "\n",
    "    for i in all_moves:\n",
    "        tmp_state = chess.Board(curr_node.state.fen())\n",
    "        tmp_state.push_san(i)\n",
    "        child = Node()\n",
    "        child.state = tmp_state\n",
    "        child.parent = curr_node\n",
    "        curr_node.children.add(child)\n",
    "        map_state_move[child] = i\n",
    "\n",
    "    while(iterations > 0):\n",
    "        if(white):\n",
    "            idx = -1\n",
    "            max_ucb = -inf\n",
    "            sel_child = None\n",
    "            for i in curr_node.children:\n",
    "                tmp = ucb1(i)\n",
    "                if(tmp > max_ucb):\n",
    "                    idx = i\n",
    "                    max_ucb = tmp\n",
    "                    sel_child = i\n",
    "\n",
    "            ex_child = expand(sel_child, 0)\n",
    "            #reward, state = rollout(ex_child)\n",
    "            reward = rollout(ex_child)\n",
    "            #curr_node = rollback(state, reward)\n",
    "            curr_node = rollback(ex_child, reward)\n",
    "            iterations -= 1\n",
    "        else:\n",
    "            idx = -1\n",
    "            min_ucb = inf\n",
    "            sel_child = None\n",
    "            for i in curr_node.children:\n",
    "                tmp = ucb1(i)\n",
    "                if(tmp < min_ucb):\n",
    "                    idx = i\n",
    "                    min_ucb = tmp\n",
    "                    sel_child = i\n",
    "\n",
    "            ex_child = expand(sel_child, 1)\n",
    "            #reward, state = rollout(ex_child)\n",
    "            reward = rollout(ex_child)\n",
    "            #curr_node = rollback(state, reward)\n",
    "            curr_node = rollback(ex_child, reward)\n",
    "            iterations -= 1\n",
    "        \n",
    "        if(white):\n",
    "            max = -inf\n",
    "            idx = -1\n",
    "            selected_move = ''\n",
    "            for i in (curr_node.children):\n",
    "                tmp = ucb1(i)\n",
    "                if (tmp > max):\n",
    "                    max = tmp\n",
    "                    selected_move = map_state_move[i]\n",
    "            return selected_move\n",
    "        else:\n",
    "            min = inf\n",
    "            idx = -1\n",
    "            selected_move = ''\n",
    "            for i in (curr_node.children):\n",
    "                tmp = ucb1(i)\n",
    "                if (tmp < min):\n",
    "                    min = tmp\n",
    "                    selected_move = map_state_move[i]\n",
    "            return selected_move"
   ]
  },
  {
   "cell_type": "code",
   "execution_count": 10,
   "metadata": {},
   "outputs": [],
   "source": [
    "def getRandomLegalMove(curr_node):\n",
    "    legal_moves = list(curr_node.state.legal_moves)\n",
    "    rand = random.randrange(len(legal_moves))\n",
    "    return board.san(legal_moves[rand])"
   ]
  },
  {
   "cell_type": "code",
   "execution_count": 11,
   "metadata": {},
   "outputs": [
    {
     "name": "stdout",
     "output_type": "stream",
     "text": [
      ". . . . . . . .\n",
      "n . . . . . . .\n",
      "K . . . . . . .\n",
      ". . . . . . . .\n",
      ". . . . . . . .\n",
      ". . . . . . . .\n",
      ". . . . . . . .\n",
      ". . . . . k . .\n",
      "f4 d5 Nc3 f6 Nb1 a6 b3 Qd7 f5 Qe6 d3 Nc6 Nc3 Ne5 d4 b6 e3 Nc6 g3 Kd7 Nb1 Kd6 Nd2 Qe4 h4 Bd7 Ke2 Nh6 Ba3+ Nb4 g4 Qxe3+ Kxe3 Re8 Bb2 g5 Nh3 Rd8 Rb1 Rb8 Bg2 gxh4 Ra1 Ra8 Bxd5 Be6 Qe1 Bg7 Rf1 a5 Qf2 Nxd5+ Ke4 Bg8 Qe1 Nf7 c4 Nf4 Rf3 c6 b4 Ne6 Rc3 Ne5 Rf3 Kc7 Rf4 axb4 Qd1 Kc8 dxe5 Rxa2 Qf3 Ng5+ Kd3 h5 Rc1 Nh7 Rg1 Kb8 Qg2 Bd5 Qe2 Re8 Rg3 Nf8 Bc3 Rxd2+ Kxd2 Kc7 Rg1 e6 Re1 b3 Kc1 Rc8 Ref1 c5 Nf2 fxe5 cxd5 Rb8 gxh5 Bh8 d6+ Kxd6 Qd3+ Kc6 Qd7+ Nxd7 Nd3 Bf6 Rc4 Kd6 Bxe5+ Kd5 Rc2 Bg7 Bd4 Rf8 Rxc5+ Nxc5 Nf2 Bf6 Rh1 Na6 Kd2 Nb8 Ra1 Na6 Ng4 Bg7 Ke1 Re8 Rb1 Kxd4 Kf1 Kd5 f6 Rc8 Rd1+ Kc6 Rd2 Rb8 Nf2 Bh8 Rc2+ Kd5 Rc4 Rc8 Ng4 Rc7 Ra4 Rc3 Rxa6 Rc8 Kg1 b2 Ra4 b1=N Rc4 Nc3 Rc5+ Ke4 Kf2 bxc5 f7 Nb5 f8=Q Rd8 Qf5+ Kd4 Qe5+ Kc4 Qb2 Rd7 Nh2 Rd1 Ke3 Bc3 Kf4 Rd7 Qa3 e5+ Kf5 Bb2 Qg3 hxg3 Ke4 Nd4 Ng4 Rd5 Nf6 Kb4 Ng8 Ka3 Nh6 Rd7 Kd3 c4+ Ke4 Rc7 Ng4 Bc3 Kd5 Nc2 Nxe5 Rd7+ Kc5 Kb3 h6 Ka2 Kxc4 Rd6 Ng4 Ka1 Kc5 Rd5+ Kb6 Be5 Ka7 Bc3 Ne5 Ne1 Ng6 Rf5 Ne7 Rf8 Ng6 Nd3 Ka6 Nb4+ Ka5 Nd5+ Ka6 Ka2 Ka7 Bh8 Ka6 Re8 Nf4 Re4 Kb7 Kb3 Ka6 Re2 Nh3 g2 Nf2 Re3 Kb5 Bf6 Ka5 Ne7 Nd3 Rg3 Nc1+ Ka3 Ne2 Bg7 Nxg3 g1=R hxg7 Rf1 Nxf1 Nc8 Ka6 Kb4 g8=R Na7 Rg4+ Ka3 Rb4 Kxb4 Nd2 Kc3 Nf1 Kd3 Nh2 Ke2 Nf1 Kxf1\n",
      "\n",
      "1/2-1/2\n"
     ]
    }
   ],
   "source": [
    "# Main Function\n",
    "board = chess.Board()\n",
    "\n",
    "\n",
    "white = 1\n",
    "moves = 0\n",
    "pgn = []\n",
    "game = chess.pgn.Game()\n",
    "evalutations = []\n",
    "sm = 0\n",
    "cnt = 0\n",
    "\n",
    "\n",
    "\n",
    "# store each board state as an image\n",
    "board_states = []\n",
    "#root = Node()\n",
    "while((not board.is_game_over())):\n",
    "    if white == 1:\n",
    "        all_moves = [board.san(i) for i in list(board.legal_moves)]\n",
    "        \n",
    "        root = Node()\n",
    "        root.state = board\n",
    "        result = mcts_pred(root, board.is_game_over(), white, iterations = 500) # added in iterations = 100\n",
    "\n",
    "        board.push_san(result)\n",
    "\n",
    "        pgn.append(result)\n",
    "        white ^= 1 # allows to switch between 2 different states black and white\n",
    "\n",
    "        # Save the current board state\n",
    "        board_states.append(board.copy())\n",
    "        moves += 1\n",
    "    else:\n",
    "        all_moves = [board.san(i) for i in list(board.legal_moves)]\n",
    "        root = Node()\n",
    "        root.state = board\n",
    "        result = getRandomLegalMove(root)\n",
    "        board.push_san(result)\n",
    "        pgn.append(result)\n",
    "        white ^= 1 \n",
    "        board_states.append(board.copy())\n",
    "        moves += 1\n",
    "\n",
    "\n",
    "board_states.append(board.copy())\n",
    "\n",
    "print(board)\n",
    "print(' '.join(pgn))\n",
    "print()\n",
    "print(board.result())\n",
    "game.headers['Result'] = board.result()\n"
   ]
  },
  {
   "cell_type": "code",
   "execution_count": 12,
   "metadata": {},
   "outputs": [],
   "source": [
    "# Load unicode \n",
    "pieces_unicode = {\n",
    "    \"P\": \"♙\", \"R\": \"♖\", \"N\": \"♘\", \"B\": \"♗\", \"Q\": \"♕\", \"K\": \"♔\",\n",
    "    \"p\": \"♟\", \"r\": \"♜\", \"n\": \"♞\", \"b\": \"♝\", \"q\": \"♛\", \"k\": \"♚\" \n",
    "}\n",
    "\n",
    "# Create animation using FuncAnimation (from L6)\n",
    "fig, ax = plt.subplots()\n",
    "\n",
    "def plot_board(board, ax):\n",
    "    ax.clear()\n",
    "    ax.set_xticks([])\n",
    "    ax.set_yticks([])\n",
    "    ax.imshow([[1, 0] * 4, [0, 1] * 4] * 4, cmap='gray', alpha=0.3) # gray and white\n",
    "    #ax.imshow([[1, 0] * 4, [0, 1] * 4] * 4, cmap='viridis', alpha=0.3) # this gives yellow and purple\n",
    "    for square in chess.SQUARES:\n",
    "        piece = board.piece_at(square)\n",
    "        if piece:\n",
    "            piece_unicode = pieces_unicode[piece.symbol()]\n",
    "            ax.text(square % 8, 7- square // 8, piece_unicode, fontsize = 36, ha='center', va='center')\n",
    "\n",
    "\n",
    "\n",
    "def update(frame):\n",
    "    plot_board(board_states[frame], ax)\n",
    "\n",
    "animation = FuncAnimation(fig, update, frames=len(board_states), repeat=False)\n",
    "animation.save('chess_game_main.gif', writer='pillow', fps=1)\n",
    "plt.close(fig)"
   ]
  },
  {
   "cell_type": "code",
   "execution_count": 13,
   "metadata": {},
   "outputs": [
    {
     "data": {
      "image/png": "[encoded data removed]",
      "text/plain": [
       "<Figure size 1000x600 with 1 Axes>"
      ]
     },
     "metadata": {},
     "output_type": "display_data"
    }
   ],
   "source": [
    "plt.figure(figsize=(10, 6))\n",
    "plt.plot(rewards, marker='o')\n",
    "plt.title('Updating Rewards Over the Game')\n",
    "plt.xlabel('Move Number')\n",
    "plt.ylabel('Reward')\n",
    "plt.grid(True)\n",
    "plt.show()"
   ]
  },
  {
   "cell_type": "markdown",
   "metadata": {},
   "source": [
    "# Proposed Solution\n",
    "\n",
    "In this section, clearly describe a solution to the problem. The solution should be applicable to the project domain and appropriate for the dataset(s) or input(s) given. Provide enough detail (e.g., algorithmic description and/or theoretical properties) to convince us that your solution is applicable. Make sure to describe how the solution will be tested.  \n",
    "\n",
    "If you know details already, describe how (e.g., library used, function calls) you plan to implement the solution in a way that is reproducible.\n",
    "\n",
    "If it is appropriate to the problem statement, describe a benchmark model<a name=\"sota\"></a>[<sup>[3]</sup>](#sotanote) against which your solution will be compared. "
   ]
  },
  {
   "cell_type": "markdown",
   "metadata": {},
   "source": [
    "# Evaluation Metrics\n",
    "\n",
    "Propose at least one evaluation metric that can be used to quantify the performance of both the benchmark model and the solution model. The evaluation metric(s) you propose should be appropriate given the context of the data, the problem statement, and the intended solution. Describe how the evaluation metric(s) are derived and provide an example of their mathematical representations (if applicable). Complex evaluation metrics should be clearly defined and quantifiable (can be expressed in mathematical or logical terms)."
   ]
  },
  {
   "cell_type": "markdown",
   "metadata": {},
   "source": [
    "# Results\n",
    "\n",
    "You may have done tons of work on this. Not all of it belongs here. \n",
    "\n",
    "Reports should have a __narrative__. Once you've looked through all your results over the quarter, decide on one main point and 2-4 secondary points you want us to understand. Include the detailed code and analysis results of those points only; you should spend more time/code/plots on your main point than the others.\n",
    "\n",
    "If you went down any blind alleys that you later decided to not pursue, please don't abuse the TAs time by throwing in 81 lines of code and 4 plots related to something you actually abandoned.  Consider deleting things that are not important to your narrative.  If its slightly relevant to the narrative or you just want us to know you tried something, you could keep it in by summarizing the result in this report in a sentence or two, moving the actual analysis to another file in your repo, and providing us a link to that file.\n",
    "\n",
    "### Subsection 1\n",
    "\n",
    "You will likely have different subsections as you go through your report. For instance you might start with an analysis of the dataset/problem and from there you might be able to draw out the kinds of algorithms that are / aren't appropriate to tackle the solution.  Or something else completely if this isn't the way your project works.\n",
    "\n",
    "### Subsection 2\n",
    "\n",
    "Another likely section is if you are doing any feature selection through cross-validation or hand-design/validation of features/transformations of the data\n",
    "\n",
    "### Subsection 3\n",
    "\n",
    "Probably you need to describe the base model and demonstrate its performance.  Maybe you include a learning curve to show whether you have enough data to do train/validate/test split or have to go to k-folds or LOOCV or ???\n",
    "\n",
    "### Subsection 4\n",
    "\n",
    "Perhaps some exploration of the model selection (hyper-parameters) or algorithm selection task. Validation curves, plots showing the variability of perfromance across folds of the cross-validation, etc. If you're doing one, the outcome of the null hypothesis test or parsimony principle check to show how you are selecting the best model.\n",
    "\n",
    "### Subsection 5 \n",
    "\n",
    "Maybe you do model selection again, but using a different kind of metric than before?\n",
    "\n"
   ]
  },
  {
   "cell_type": "markdown",
   "metadata": {},
   "source": [
    "# Discussion\n",
    "\n",
    "### Interpreting the result\n",
    "\n",
    "OK, you've given us quite a bit of tech informaiton above, now its time to tell us what to pay attention to in all that.  Think clearly about your results, decide on one main point and 2-4 secondary points you want us to understand. Highlight HOW your results support those points.  You probably want 2-5 sentences per point.\n",
    "\n",
    "### Limitations\n",
    "\n",
    "Are there any problems with the work?  For instance would more data change the nature of the problem? Would it be good to explore more hyperparams than you had time for?   \n",
    "\n",
    "### Ethics & Privacy\n",
    "\n",
    "If your project has obvious potential concerns with ethics or data privacy discuss that here.  Almost every ML project put into production can have ethical implications if you use your imagination. Use your imagination.\n",
    "\n",
    "Even if you can't come up with an obvious ethical concern that should be addressed, you should know that a large number of ML projects that go into producation have unintended consequences and ethical problems once in production. How will your team address these issues?\n",
    "\n",
    "Consider a tool to help you address the potential issues such as https://deon.drivendata.org\n",
    "\n",
    "### Conclusion\n",
    "\n",
    "Reiterate your main point and in just a few sentences tell us how your results support it. Mention how this work would fit in the background/context of other work in this field if you can. Suggest directions for future work if you want to."
   ]
  },
  {
   "cell_type": "markdown",
   "metadata": {},
   "source": [
    "# Footnotes\n",
    "<a name=\"lorenznote\"></a>1.[^](#lorenz): Lorenz, T. (9 Dec 2021) Birds Aren’t Real, or Are They? Inside a Gen Z Conspiracy Theory. *The New York Times*. https://www.nytimes.com/2021/12/09/technology/birds-arent-real-gen-z-misinformation.html<br> \n",
    "<a name=\"admonishnote\"></a>2.[^](#admonish): Also refs should be important to the background, not some randomly chosen vaguely related stuff. Include a web link if possible in refs as above.<br>\n",
    "<a name=\"sotanote\"></a>3.[^](#sota): Perhaps the current state of the art solution such as you see on [Papers with code](https://paperswithcode.com/sota). Or maybe not SOTA, but rather a standard textbook/Kaggle solution to this kind of problem\n"
   ]
  },
  {
   "cell_type": "code",
   "execution_count": null,
   "metadata": {},
   "outputs": [],
   "source": []
  }
 ],
 "metadata": {
  "kernelspec": {
   "display_name": "Python 3 (ipykernel)",
   "language": "python",
   "name": "python3"
  },
  "language_info": {
   "codemirror_mode": {
    "name": "ipython",
    "version": 3
   },
   "file_extension": ".py",
   "mimetype": "text/x-python",
   "name": "python",
   "nbconvert_exporter": "python",
   "pygments_lexer": "ipython3",
   "version": "3.11.4"
  }
 },
 "nbformat": 4,
 "nbformat_minor": 2
}
